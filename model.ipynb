{
 "cells": [
  {
   "cell_type": "markdown",
   "id": "664b591e",
   "metadata": {},
   "source": [
    "# Projeto Final - Classificação de Imagens com Deep Learning\n",
    "\n",
    "Este projeto tem como objetivo aplicar técnicas de Deep Learning para realizar a classificação binária de imagens utilizando redes neurais convolucionais (CNN). O modelo será treinado com técnicas de aumento de dados (data augmentation) e validado com métricas como acurácia e AUC. Também será discutido o impacto do desbalanceamento de classes e como contorná-lo com `class_weight`.\n",
    "\n",
    "---"
   ]
  },
  {
   "cell_type": "markdown",
   "id": "1b84449f",
   "metadata": {},
   "source": [
    "## Importação de Bibliotecas"
   ]
  },
  {
   "cell_type": "code",
   "execution_count": 1,
   "id": "7e5ebf6c",
   "metadata": {},
   "outputs": [],
   "source": [
    "import tensorflow as tf\n",
    "from tensorflow.keras.layers import Dense, GlobalAveragePooling2D, Dropout\n",
    "from tensorflow.keras.models import Model\n",
    "from tensorflow.keras.applications import EfficientNetB0\n",
    "from tensorflow.keras.callbacks import EarlyStopping\n"
   ]
  },
  {
   "cell_type": "markdown",
   "id": "3781609a",
   "metadata": {},
   "source": [
    "## Preparação e Aumento de Dados"
   ]
  },
  {
   "cell_type": "markdown",
   "id": "d52c82de",
   "metadata": {},
   "source": [
    "Utilizamos `ImageDataGenerator` para aplicar técnicas de *data augmentation* no conjunto de treino, o que ajuda na generalização do modelo. O conjunto de validação é apenas normalizado, sem transformações aleatórias."
   ]
  },
  {
   "cell_type": "code",
   "execution_count": 2,
   "id": "8daaf795",
   "metadata": {},
   "outputs": [
    {
     "name": "stdout",
     "output_type": "stream",
     "text": [
      "Found 310 images belonging to 2 classes.\n",
      "Found 77 images belonging to 2 classes.\n"
     ]
    }
   ],
   "source": [
    "train_dir = './dataset/train'\n",
    "val_dir = './dataset/val'\n",
    "\n",
    "batch_size = 32\n",
    "img_size = (224, 224)  # tamanho padrão para EfficientNetB0\n",
    "\n",
    "train_datagen = tf.keras.preprocessing.image.ImageDataGenerator(\n",
    "    rescale=1./255,\n",
    "    rotation_range=20,\n",
    "    width_shift_range=0.1,\n",
    "    height_shift_range=0.1,\n",
    "    zoom_range=0.2,\n",
    "    horizontal_flip=True,\n",
    "    brightness_range=[0.8,1.2]\n",
    ")\n",
    "\n",
    "val_datagen = tf.keras.preprocessing.image.ImageDataGenerator(\n",
    "    rescale=1./255\n",
    ")\n",
    "\n",
    "train_generator = train_datagen.flow_from_directory(\n",
    "    train_dir,\n",
    "    target_size=img_size,\n",
    "    batch_size=batch_size,\n",
    "    class_mode='binary'\n",
    ")\n",
    "\n",
    "val_generator = val_datagen.flow_from_directory(\n",
    "    val_dir,\n",
    "    target_size=img_size,\n",
    "    batch_size=batch_size,\n",
    "    class_mode='binary'\n",
    ")\n"
   ]
  },
  {
   "cell_type": "markdown",
   "id": "fd394b54",
   "metadata": {},
   "source": [
    "## Construção do Modelo - CNN Simples"
   ]
  },
  {
   "cell_type": "markdown",
   "id": "3b4e8415",
   "metadata": {},
   "source": [
    "Inicialmente, é construída uma CNN do zero com camadas convolucionais, de pooling, flatten e densas. O modelo termina com uma camada densa com ativação sigmoide para saída binária."
   ]
  },
  {
   "cell_type": "code",
   "execution_count": 3,
   "id": "4dd008ce",
   "metadata": {},
   "outputs": [
    {
     "name": "stderr",
     "output_type": "stream",
     "text": [
      "c:\\Users\\danda\\anaconda3\\Lib\\site-packages\\keras\\src\\layers\\convolutional\\base_conv.py:107: UserWarning: Do not pass an `input_shape`/`input_dim` argument to a layer. When using Sequential models, prefer using an `Input(shape)` object as the first layer in the model instead.\n",
      "  super().__init__(activity_regularizer=activity_regularizer, **kwargs)\n"
     ]
    }
   ],
   "source": [
    "\n",
    "from tensorflow.keras.models import Sequential\n",
    "from tensorflow.keras.layers import Conv2D, MaxPooling2D, Flatten, Dense, Dropout\n",
    "\n",
    "model = Sequential([\n",
    "    Conv2D(16, (3, 3), activation='relu', input_shape=(224, 224, 3)),\n",
    "    MaxPooling2D(2, 2),\n",
    "    Conv2D(32, (3, 3), activation='relu'),\n",
    "    MaxPooling2D(2, 2),\n",
    "    Flatten(),\n",
    "    Dense(64, activation='relu'),\n",
    "    Dropout(0.5),\n",
    "    Dense(1, activation='sigmoid')\n",
    "])\n"
   ]
  },
  {
   "cell_type": "markdown",
   "id": "90fc1e3a",
   "metadata": {},
   "source": [
    "## Compilação e Treinamento do Modelo"
   ]
  },
  {
   "cell_type": "markdown",
   "id": "5e5e6982",
   "metadata": {},
   "source": [
    "O modelo é compilado com otimizador Adam e função de perda binária. Usamos também `class_weight` para compensar o desbalanceamento entre as classes."
   ]
  },
  {
   "cell_type": "code",
   "execution_count": 4,
   "id": "40dc26fe",
   "metadata": {},
   "outputs": [
    {
     "name": "stderr",
     "output_type": "stream",
     "text": [
      "c:\\Users\\danda\\anaconda3\\Lib\\site-packages\\keras\\src\\trainers\\data_adapters\\py_dataset_adapter.py:121: UserWarning: Your `PyDataset` class should call `super().__init__(**kwargs)` in its constructor. `**kwargs` can include `workers`, `use_multiprocessing`, `max_queue_size`. Do not pass these arguments to `fit()`, as they will be ignored.\n",
      "  self._warn_if_super_not_called()\n"
     ]
    },
    {
     "name": "stdout",
     "output_type": "stream",
     "text": [
      "Epoch 1/30\n",
      "\u001b[1m10/10\u001b[0m \u001b[32m━━━━━━━━━━━━━━━━━━━━\u001b[0m\u001b[37m\u001b[0m \u001b[1m22s\u001b[0m 2s/step - accuracy: 0.4159 - auc: 0.5082 - loss: 5.6619 - val_accuracy: 0.9351 - val_auc: 0.9994 - val_loss: 0.3846\n",
      "Epoch 2/30\n",
      "\u001b[1m10/10\u001b[0m \u001b[32m━━━━━━━━━━━━━━━━━━━━\u001b[0m\u001b[37m\u001b[0m \u001b[1m17s\u001b[0m 2s/step - accuracy: 0.8535 - auc: 0.8966 - loss: 0.8490 - val_accuracy: 0.7792 - val_auc: 1.0000 - val_loss: 0.4028\n",
      "Epoch 3/30\n",
      "\u001b[1m10/10\u001b[0m \u001b[32m━━━━━━━━━━━━━━━━━━━━\u001b[0m\u001b[37m\u001b[0m \u001b[1m21s\u001b[0m 2s/step - accuracy: 0.8471 - auc: 0.9768 - loss: 0.5355 - val_accuracy: 0.9870 - val_auc: 1.0000 - val_loss: 0.0724\n",
      "Epoch 4/30\n",
      "\u001b[1m10/10\u001b[0m \u001b[32m━━━━━━━━━━━━━━━━━━━━\u001b[0m\u001b[37m\u001b[0m \u001b[1m20s\u001b[0m 2s/step - accuracy: 0.7820 - auc: 0.9658 - loss: 0.6617 - val_accuracy: 0.9481 - val_auc: 0.9952 - val_loss: 0.1621\n",
      "Epoch 5/30\n",
      "\u001b[1m10/10\u001b[0m \u001b[32m━━━━━━━━━━━━━━━━━━━━\u001b[0m\u001b[37m\u001b[0m \u001b[1m17s\u001b[0m 2s/step - accuracy: 0.9309 - auc: 0.9887 - loss: 0.3780 - val_accuracy: 0.9870 - val_auc: 1.0000 - val_loss: 0.0838\n",
      "Epoch 6/30\n",
      "\u001b[1m10/10\u001b[0m \u001b[32m━━━━━━━━━━━━━━━━━━━━\u001b[0m\u001b[37m\u001b[0m \u001b[1m16s\u001b[0m 2s/step - accuracy: 0.9184 - auc: 0.9850 - loss: 0.3612 - val_accuracy: 0.9870 - val_auc: 1.0000 - val_loss: 0.0289\n",
      "Epoch 7/30\n",
      "\u001b[1m10/10\u001b[0m \u001b[32m━━━━━━━━━━━━━━━━━━━━\u001b[0m\u001b[37m\u001b[0m \u001b[1m16s\u001b[0m 2s/step - accuracy: 0.9737 - auc: 0.9963 - loss: 0.2624 - val_accuracy: 0.9351 - val_auc: 1.0000 - val_loss: 0.1302\n",
      "Epoch 8/30\n",
      "\u001b[1m10/10\u001b[0m \u001b[32m━━━━━━━━━━━━━━━━━━━━\u001b[0m\u001b[37m\u001b[0m \u001b[1m16s\u001b[0m 2s/step - accuracy: 0.9244 - auc: 0.9899 - loss: 0.2991 - val_accuracy: 0.9740 - val_auc: 1.0000 - val_loss: 0.0879\n",
      "Epoch 9/30\n",
      "\u001b[1m10/10\u001b[0m \u001b[32m━━━━━━━━━━━━━━━━━━━━\u001b[0m\u001b[37m\u001b[0m \u001b[1m16s\u001b[0m 2s/step - accuracy: 0.9323 - auc: 0.9973 - loss: 0.2225 - val_accuracy: 1.0000 - val_auc: 1.0000 - val_loss: 0.0184\n",
      "Epoch 10/30\n",
      "\u001b[1m10/10\u001b[0m \u001b[32m━━━━━━━━━━━━━━━━━━━━\u001b[0m\u001b[37m\u001b[0m \u001b[1m17s\u001b[0m 2s/step - accuracy: 0.9736 - auc: 0.9993 - loss: 0.1114 - val_accuracy: 1.0000 - val_auc: 1.0000 - val_loss: 0.0031\n",
      "Epoch 11/30\n",
      "\u001b[1m10/10\u001b[0m \u001b[32m━━━━━━━━━━━━━━━━━━━━\u001b[0m\u001b[37m\u001b[0m \u001b[1m17s\u001b[0m 2s/step - accuracy: 0.9939 - auc: 0.9996 - loss: 0.0693 - val_accuracy: 1.0000 - val_auc: 1.0000 - val_loss: 0.0096\n",
      "Epoch 12/30\n",
      "\u001b[1m10/10\u001b[0m \u001b[32m━━━━━━━━━━━━━━━━━━━━\u001b[0m\u001b[37m\u001b[0m \u001b[1m16s\u001b[0m 2s/step - accuracy: 0.9749 - auc: 0.9956 - loss: 0.1760 - val_accuracy: 1.0000 - val_auc: 1.0000 - val_loss: 0.0023\n",
      "Epoch 13/30\n",
      "\u001b[1m10/10\u001b[0m \u001b[32m━━━━━━━━━━━━━━━━━━━━\u001b[0m\u001b[37m\u001b[0m \u001b[1m16s\u001b[0m 2s/step - accuracy: 0.9798 - auc: 0.9979 - loss: 0.1625 - val_accuracy: 1.0000 - val_auc: 1.0000 - val_loss: 0.0154\n",
      "Epoch 14/30\n",
      "\u001b[1m10/10\u001b[0m \u001b[32m━━━━━━━━━━━━━━━━━━━━\u001b[0m\u001b[37m\u001b[0m \u001b[1m17s\u001b[0m 2s/step - accuracy: 0.9710 - auc: 0.9960 - loss: 0.2009 - val_accuracy: 0.9740 - val_auc: 1.0000 - val_loss: 0.0347\n",
      "Epoch 15/30\n",
      "\u001b[1m10/10\u001b[0m \u001b[32m━━━━━━━━━━━━━━━━━━━━\u001b[0m\u001b[37m\u001b[0m \u001b[1m17s\u001b[0m 2s/step - accuracy: 0.9582 - auc: 0.9985 - loss: 0.1342 - val_accuracy: 0.9740 - val_auc: 1.0000 - val_loss: 0.0279\n",
      "Epoch 16/30\n",
      "\u001b[1m10/10\u001b[0m \u001b[32m━━━━━━━━━━━━━━━━━━━━\u001b[0m\u001b[37m\u001b[0m \u001b[1m17s\u001b[0m 2s/step - accuracy: 0.9367 - auc: 0.9979 - loss: 0.1851 - val_accuracy: 1.0000 - val_auc: 1.0000 - val_loss: 0.0066\n",
      "Epoch 17/30\n",
      "\u001b[1m10/10\u001b[0m \u001b[32m━━━━━━━━━━━━━━━━━━━━\u001b[0m\u001b[37m\u001b[0m \u001b[1m17s\u001b[0m 2s/step - accuracy: 0.9790 - auc: 0.9988 - loss: 0.1558 - val_accuracy: 0.9740 - val_auc: 1.0000 - val_loss: 0.0408\n",
      "Epoch 18/30\n",
      "\u001b[1m10/10\u001b[0m \u001b[32m━━━━━━━━━━━━━━━━━━━━\u001b[0m\u001b[37m\u001b[0m \u001b[1m19s\u001b[0m 2s/step - accuracy: 0.9017 - auc: 0.9949 - loss: 0.3119 - val_accuracy: 1.0000 - val_auc: 1.0000 - val_loss: 0.0012\n",
      "Epoch 19/30\n",
      "\u001b[1m10/10\u001b[0m \u001b[32m━━━━━━━━━━━━━━━━━━━━\u001b[0m\u001b[37m\u001b[0m \u001b[1m20s\u001b[0m 2s/step - accuracy: 0.9708 - auc: 0.9978 - loss: 0.1208 - val_accuracy: 1.0000 - val_auc: 1.0000 - val_loss: 0.0011\n",
      "Epoch 20/30\n",
      "\u001b[1m10/10\u001b[0m \u001b[32m━━━━━━━━━━━━━━━━━━━━\u001b[0m\u001b[37m\u001b[0m \u001b[1m17s\u001b[0m 2s/step - accuracy: 0.9624 - auc: 0.9968 - loss: 0.2353 - val_accuracy: 1.0000 - val_auc: 1.0000 - val_loss: 0.0056\n",
      "Epoch 21/30\n",
      "\u001b[1m10/10\u001b[0m \u001b[32m━━━━━━━━━━━━━━━━━━━━\u001b[0m\u001b[37m\u001b[0m \u001b[1m17s\u001b[0m 2s/step - accuracy: 0.9827 - auc: 0.9902 - loss: 0.3023 - val_accuracy: 1.0000 - val_auc: 1.0000 - val_loss: 0.0091\n",
      "Epoch 22/30\n",
      "\u001b[1m10/10\u001b[0m \u001b[32m━━━━━━━━━━━━━━━━━━━━\u001b[0m\u001b[37m\u001b[0m \u001b[1m16s\u001b[0m 2s/step - accuracy: 0.9819 - auc: 0.9977 - loss: 0.1803 - val_accuracy: 1.0000 - val_auc: 1.0000 - val_loss: 0.0059\n",
      "Epoch 23/30\n",
      "\u001b[1m10/10\u001b[0m \u001b[32m━━━━━━━━━━━━━━━━━━━━\u001b[0m\u001b[37m\u001b[0m \u001b[1m18s\u001b[0m 2s/step - accuracy: 0.9876 - auc: 0.9951 - loss: 0.2338 - val_accuracy: 0.9870 - val_auc: 1.0000 - val_loss: 0.0437\n",
      "Epoch 24/30\n",
      "\u001b[1m10/10\u001b[0m \u001b[32m━━━━━━━━━━━━━━━━━━━━\u001b[0m\u001b[37m\u001b[0m \u001b[1m18s\u001b[0m 2s/step - accuracy: 0.9612 - auc: 0.9993 - loss: 0.1931 - val_accuracy: 1.0000 - val_auc: 1.0000 - val_loss: 0.0063\n",
      "Epoch 25/30\n",
      "\u001b[1m10/10\u001b[0m \u001b[32m━━━━━━━━━━━━━━━━━━━━\u001b[0m\u001b[37m\u001b[0m \u001b[1m17s\u001b[0m 2s/step - accuracy: 0.9707 - auc: 0.9957 - loss: 0.1723 - val_accuracy: 1.0000 - val_auc: 1.0000 - val_loss: 0.0019\n",
      "Epoch 26/30\n",
      "\u001b[1m10/10\u001b[0m \u001b[32m━━━━━━━━━━━━━━━━━━━━\u001b[0m\u001b[37m\u001b[0m \u001b[1m17s\u001b[0m 2s/step - accuracy: 0.9718 - auc: 0.9963 - loss: 0.2349 - val_accuracy: 0.9740 - val_auc: 1.0000 - val_loss: 0.0375\n",
      "Epoch 27/30\n",
      "\u001b[1m10/10\u001b[0m \u001b[32m━━━━━━━━━━━━━━━━━━━━\u001b[0m\u001b[37m\u001b[0m \u001b[1m17s\u001b[0m 2s/step - accuracy: 0.9457 - auc: 0.9959 - loss: 0.2492 - val_accuracy: 0.9481 - val_auc: 1.0000 - val_loss: 0.1046\n",
      "Epoch 28/30\n",
      "\u001b[1m10/10\u001b[0m \u001b[32m━━━━━━━━━━━━━━━━━━━━\u001b[0m\u001b[37m\u001b[0m \u001b[1m17s\u001b[0m 2s/step - accuracy: 0.9185 - auc: 0.9956 - loss: 0.2763 - val_accuracy: 1.0000 - val_auc: 1.0000 - val_loss: 0.0176\n",
      "Epoch 29/30\n",
      "\u001b[1m10/10\u001b[0m \u001b[32m━━━━━━━━━━━━━━━━━━━━\u001b[0m\u001b[37m\u001b[0m \u001b[1m17s\u001b[0m 2s/step - accuracy: 0.9532 - auc: 0.9980 - loss: 0.1952 - val_accuracy: 1.0000 - val_auc: 1.0000 - val_loss: 0.0114\n",
      "Epoch 30/30\n",
      "\u001b[1m10/10\u001b[0m \u001b[32m━━━━━━━━━━━━━━━━━━━━\u001b[0m\u001b[37m\u001b[0m \u001b[1m19s\u001b[0m 2s/step - accuracy: 0.9815 - auc: 0.9978 - loss: 0.1712 - val_accuracy: 1.0000 - val_auc: 1.0000 - val_loss: 0.0046\n"
     ]
    }
   ],
   "source": [
    "\n",
    "from tensorflow.keras.metrics import AUC\n",
    "\n",
    "model.compile(\n",
    "    optimizer='adam',\n",
    "    loss='binary_crossentropy',\n",
    "    metrics=['accuracy', AUC(name='auc')]\n",
    ")\n",
    "\n",
    "history = model.fit(\n",
    "    train_generator,\n",
    "    validation_data=val_generator,\n",
    "    epochs=30,\n",
    "    class_weight={0: 10.0, 1: 1.0}\n",
    ")\n",
    "\n"
   ]
  },
  {
   "cell_type": "markdown",
   "id": "8e7039a9",
   "metadata": {},
   "source": [
    "## Avaliação com Gráficos de Acurácia e Perda"
   ]
  },
  {
   "cell_type": "code",
   "execution_count": 5,
   "id": "a36dcc75",
   "metadata": {},
   "outputs": [
    {
     "data": {
      "image/png": "[encoded data removed]",
      "text/plain": [
       "<Figure size 640x480 with 1 Axes>"
      ]
     },
     "metadata": {},
     "output_type": "display_data"
    },
    {
     "data": {
      "image/png": "[encoded data removed]",
      "text/plain": [
       "<Figure size 640x480 with 1 Axes>"
      ]
     },
     "metadata": {},
     "output_type": "display_data"
    }
   ],
   "source": [
    "import matplotlib.pyplot as plt\n",
    "\n",
    "# Acurácia\n",
    "plt.plot(history.history['accuracy'], label='Treinamento')\n",
    "plt.plot(history.history['val_accuracy'], label='Validação')\n",
    "plt.title('Acurácia durante o treinamento')\n",
    "plt.xlabel('Épocas')\n",
    "plt.ylabel('Acurácia')\n",
    "plt.legend()\n",
    "plt.show()\n",
    "\n",
    "# Loss\n",
    "plt.plot(history.history['loss'], label='Treinamento')\n",
    "plt.plot(history.history['val_loss'], label='Validação')\n",
    "plt.title('Perda (Loss) durante o treinamento')\n",
    "plt.xlabel('Épocas')\n",
    "plt.ylabel('Loss')\n",
    "plt.legend()\n",
    "plt.show()\n"
   ]
  },
  {
   "cell_type": "markdown",
   "id": "1328334e",
   "metadata": {},
   "source": [
    "## Testes com Dataset de amostras\n"
   ]
  },
  {
   "cell_type": "code",
   "execution_count": 12,
   "id": "4b906554",
   "metadata": {},
   "outputs": [
    {
     "name": "stdout",
     "output_type": "stream",
     "text": [
      "\u001b[1m1/1\u001b[0m \u001b[32m━━━━━━━━━━━━━━━━━━━━\u001b[0m\u001b[37m\u001b[0m \u001b[1m0s\u001b[0m 51ms/step\n",
      "Imagem: ./dataset/amostra/deficiencia_1.JPG\n",
      "Probabilidade da classe 1: 0.0000\n",
      "Classe prevista: 0\n",
      "A imagem apresenta deficiência.\n",
      "--------------------------\n",
      "\u001b[1m1/1\u001b[0m \u001b[32m━━━━━━━━━━━━━━━━━━━━\u001b[0m\u001b[37m\u001b[0m \u001b[1m0s\u001b[0m 42ms/step\n",
      "Imagem: ./dataset/amostra/deficiencia_2.JPG\n",
      "Probabilidade da classe 1: 0.0000\n",
      "Classe prevista: 0\n",
      "A imagem apresenta deficiência.\n",
      "--------------------------\n",
      "\u001b[1m1/1\u001b[0m \u001b[32m━━━━━━━━━━━━━━━━━━━━\u001b[0m\u001b[37m\u001b[0m \u001b[1m0s\u001b[0m 46ms/step\n",
      "Imagem: ./dataset/amostra/deficiencia_3.JPG\n",
      "Probabilidade da classe 1: 0.0000\n",
      "Classe prevista: 0\n",
      "A imagem apresenta deficiência.\n",
      "--------------------------\n",
      "\u001b[1m1/1\u001b[0m \u001b[32m━━━━━━━━━━━━━━━━━━━━\u001b[0m\u001b[37m\u001b[0m \u001b[1m0s\u001b[0m 55ms/step\n",
      "Imagem: ./dataset/amostra/deficiencia_4.JPG\n",
      "Probabilidade da classe 1: 0.0018\n",
      "Classe prevista: 0\n",
      "A imagem apresenta deficiência.\n",
      "--------------------------\n",
      "\u001b[1m1/1\u001b[0m \u001b[32m━━━━━━━━━━━━━━━━━━━━\u001b[0m\u001b[37m\u001b[0m \u001b[1m0s\u001b[0m 52ms/step\n",
      "Imagem: ./dataset/amostra/normal_1.JPG\n",
      "Probabilidade da classe 1: 1.0000\n",
      "Classe prevista: 1\n",
      "A imagem é normal.\n",
      "--------------------------\n",
      "\u001b[1m1/1\u001b[0m \u001b[32m━━━━━━━━━━━━━━━━━━━━\u001b[0m\u001b[37m\u001b[0m \u001b[1m0s\u001b[0m 59ms/step\n",
      "Imagem: ./dataset/amostra/normal_2.JPG\n",
      "Probabilidade da classe 1: 1.0000\n",
      "Classe prevista: 1\n",
      "A imagem é normal.\n",
      "--------------------------\n",
      "\u001b[1m1/1\u001b[0m \u001b[32m━━━━━━━━━━━━━━━━━━━━\u001b[0m\u001b[37m\u001b[0m \u001b[1m0s\u001b[0m 58ms/step\n",
      "Imagem: ./dataset/amostra/normal_3.JPG\n",
      "Probabilidade da classe 1: 1.0000\n",
      "Classe prevista: 1\n",
      "A imagem é normal.\n",
      "--------------------------\n",
      "\u001b[1m1/1\u001b[0m \u001b[32m━━━━━━━━━━━━━━━━━━━━\u001b[0m\u001b[37m\u001b[0m \u001b[1m0s\u001b[0m 37ms/step\n",
      "Imagem: ./dataset/amostra/normal_4.JPG\n",
      "Probabilidade da classe 1: 1.0000\n",
      "Classe prevista: 1\n",
      "A imagem é normal.\n",
      "--------------------------\n",
      "\u001b[1m1/1\u001b[0m \u001b[32m━━━━━━━━━━━━━━━━━━━━\u001b[0m\u001b[37m\u001b[0m \u001b[1m0s\u001b[0m 49ms/step\n",
      "Imagem: ./dataset/amostra/normal_5.JPG\n",
      "Probabilidade da classe 1: 0.9997\n",
      "Classe prevista: 1\n",
      "A imagem é normal.\n",
      "--------------------------\n"
     ]
    }
   ],
   "source": [
    "from tensorflow.keras.preprocessing import image\n",
    "import numpy as np\n",
    "\n",
    "amostra_data = [] \n",
    "# Caminho da imagem de teste (ajuste conforme necessário)\n",
    "amostra_data.append('./dataset/amostra/deficiencia_1.JPG')\n",
    "amostra_data.append('./dataset/amostra/deficiencia_2.JPG')\n",
    "amostra_data.append('./dataset/amostra/deficiencia_3.JPG')\n",
    "amostra_data.append('./dataset/amostra/deficiencia_4.JPG')\n",
    "amostra_data.append('./dataset/amostra/normal_1.JPG')\n",
    "amostra_data.append('./dataset/amostra/normal_2.JPG')\n",
    "amostra_data.append('./dataset/amostra/normal_3.JPG')\n",
    "amostra_data.append('./dataset/amostra/normal_4.JPG')\n",
    "amostra_data.append('./dataset/amostra/normal_5.JPG')\n",
    "\n",
    "def test_img(img_path):\n",
    "    # Carregar a imagem\n",
    "    img = image.load_img(img_path, target_size=(224, 224))\n",
    "    img_array = image.img_to_array(img)\n",
    "    img_array = img_array / 255.0\n",
    "    img_array = np.expand_dims(img_array, axis=0)\n",
    "\n",
    "    # Fazer a predição\n",
    "    pred = model.predict(img_array)\n",
    "    classe_prevista = int(pred[0][0] > 0.5)\n",
    "    print(f'Imagem: {img_path}')\n",
    "    print(f'Probabilidade da classe 1: {pred[0][0]:.4f}')\n",
    "    print(f'Classe prevista: {classe_prevista}') \n",
    "    if classe_prevista == 1:\n",
    "        print(\"A imagem é normal.\")\n",
    "    else:\n",
    "        print(\"A imagem apresenta deficiência.\")\n",
    "    print(\"--------------------------\")\n",
    "\n",
    "for img_path in amostra_data:\n",
    "    test_img(img_path)\n"
   ]
  },
  {
   "cell_type": "markdown",
   "id": "0ad99ded",
   "metadata": {},
   "source": [
    "## Salvar o modelo"
   ]
  },
  {
   "cell_type": "code",
   "execution_count": 7,
   "id": "b3bfc1fb",
   "metadata": {},
   "outputs": [
    {
     "name": "stderr",
     "output_type": "stream",
     "text": [
      "WARNING:absl:You are saving your model as an HDF5 file via `model.save()` or `keras.saving.save_model(model)`. This file format is considered legacy. We recommend using instead the native Keras format, e.g. `model.save('my_model.keras')` or `keras.saving.save_model(model, 'my_model.keras')`. \n"
     ]
    },
    {
     "name": "stdout",
     "output_type": "stream",
     "text": [
      "Modelo salvo como modelo_final_focal.h5\n"
     ]
    }
   ],
   "source": [
    "# Salvar o modelo treinado com a extensão .h5\n",
    "model.save(\"modelo_final_focal.h5\")\n",
    "print(\"Modelo salvo como modelo_final_focal.h5\")"
   ]
  },
  {
   "cell_type": "markdown",
   "id": "97c6fdcf",
   "metadata": {},
   "source": [
    "## Teste com o modelo Salvo"
   ]
  },
  {
   "cell_type": "code",
   "execution_count": 8,
   "id": "3af392c1",
   "metadata": {},
   "outputs": [
    {
     "name": "stderr",
     "output_type": "stream",
     "text": [
      "WARNING:absl:Compiled the loaded model, but the compiled metrics have yet to be built. `model.compile_metrics` will be empty until you train or evaluate the model.\n"
     ]
    },
    {
     "name": "stdout",
     "output_type": "stream",
     "text": [
      "Modelo carregado com sucesso.\n"
     ]
    }
   ],
   "source": [
    "from tensorflow.keras.models import load_model\n",
    "from tensorflow.keras import backend as K\n",
    "import tensorflow as tf\n",
    "\n",
    "# Redefina a função focal_loss\n",
    "def focal_loss(gamma=2., alpha=0.25):\n",
    "    def focal_loss_fixed(y_true, y_pred):\n",
    "        y_true = tf.cast(y_true, tf.float32)\n",
    "        epsilon = K.epsilon()\n",
    "        y_pred = K.clip(y_pred, epsilon, 1. - epsilon)\n",
    "        pt_1 = tf.where(K.equal(y_true, 1), y_pred, K.ones_like(y_pred))\n",
    "        pt_0 = tf.where(K.equal(y_true, 0), y_pred, K.zeros_like(y_pred))\n",
    "        return -K.sum(alpha * K.pow(1. - pt_1, gamma) * K.log(pt_1)) - \\\n",
    "               K.sum((1 - alpha) * K.pow(pt_0, gamma) * K.log(1. - pt_0))\n",
    "    return focal_loss_fixed\n",
    "\n",
    "# Carregar o modelo salvo\n",
    "model2 = load_model(\"modelo_final_focal.h5\", custom_objects={\"focal_loss_fixed\": focal_loss(2.0, 0.25)})\n",
    "print(\"Modelo carregado com sucesso.\")\n",
    "\n"
   ]
  },
  {
   "cell_type": "code",
   "execution_count": 13,
   "id": "5b23221f",
   "metadata": {},
   "outputs": [
    {
     "name": "stdout",
     "output_type": "stream",
     "text": [
      "\u001b[1m1/1\u001b[0m \u001b[32m━━━━━━━━━━━━━━━━━━━━\u001b[0m\u001b[37m\u001b[0m \u001b[1m0s\u001b[0m 96ms/step\n",
      "Imagem: ./dataset/amostra/deficiencia_1.JPG\n",
      "Probabilidade da classe 1: 0.0000\n",
      "Classe prevista: 0\n",
      "A imagem apresenta deficiência.\n",
      "--------------------------\n",
      "\u001b[1m1/1\u001b[0m \u001b[32m━━━━━━━━━━━━━━━━━━━━\u001b[0m\u001b[37m\u001b[0m \u001b[1m0s\u001b[0m 52ms/step\n",
      "Imagem: ./dataset/amostra/deficiencia_2.JPG\n",
      "Probabilidade da classe 1: 0.0000\n",
      "Classe prevista: 0\n",
      "A imagem apresenta deficiência.\n",
      "--------------------------\n",
      "\u001b[1m1/1\u001b[0m \u001b[32m━━━━━━━━━━━━━━━━━━━━\u001b[0m\u001b[37m\u001b[0m \u001b[1m0s\u001b[0m 54ms/step\n",
      "Imagem: ./dataset/amostra/deficiencia_3.JPG\n",
      "Probabilidade da classe 1: 0.0000\n",
      "Classe prevista: 0\n",
      "A imagem apresenta deficiência.\n",
      "--------------------------\n",
      "\u001b[1m1/1\u001b[0m \u001b[32m━━━━━━━━━━━━━━━━━━━━\u001b[0m\u001b[37m\u001b[0m \u001b[1m0s\u001b[0m 65ms/step\n",
      "Imagem: ./dataset/amostra/deficiencia_4.JPG\n",
      "Probabilidade da classe 1: 0.0018\n",
      "Classe prevista: 0\n",
      "A imagem apresenta deficiência.\n",
      "--------------------------\n",
      "\u001b[1m1/1\u001b[0m \u001b[32m━━━━━━━━━━━━━━━━━━━━\u001b[0m\u001b[37m\u001b[0m \u001b[1m0s\u001b[0m 73ms/step\n",
      "Imagem: ./dataset/amostra/normal_1.JPG\n",
      "Probabilidade da classe 1: 1.0000\n",
      "Classe prevista: 1\n",
      "A imagem é normal.\n",
      "--------------------------\n",
      "\u001b[1m1/1\u001b[0m \u001b[32m━━━━━━━━━━━━━━━━━━━━\u001b[0m\u001b[37m\u001b[0m \u001b[1m0s\u001b[0m 45ms/step\n",
      "Imagem: ./dataset/amostra/normal_2.JPG\n",
      "Probabilidade da classe 1: 1.0000\n",
      "Classe prevista: 1\n",
      "A imagem é normal.\n",
      "--------------------------\n",
      "\u001b[1m1/1\u001b[0m \u001b[32m━━━━━━━━━━━━━━━━━━━━\u001b[0m\u001b[37m\u001b[0m \u001b[1m0s\u001b[0m 59ms/step\n",
      "Imagem: ./dataset/amostra/normal_3.JPG\n",
      "Probabilidade da classe 1: 1.0000\n",
      "Classe prevista: 1\n",
      "A imagem é normal.\n",
      "--------------------------\n",
      "\u001b[1m1/1\u001b[0m \u001b[32m━━━━━━━━━━━━━━━━━━━━\u001b[0m\u001b[37m\u001b[0m \u001b[1m0s\u001b[0m 66ms/step\n",
      "Imagem: ./dataset/amostra/normal_4.JPG\n",
      "Probabilidade da classe 1: 1.0000\n",
      "Classe prevista: 1\n",
      "A imagem é normal.\n",
      "--------------------------\n",
      "\u001b[1m1/1\u001b[0m \u001b[32m━━━━━━━━━━━━━━━━━━━━\u001b[0m\u001b[37m\u001b[0m \u001b[1m0s\u001b[0m 53ms/step\n",
      "Imagem: ./dataset/amostra/normal_5.JPG\n",
      "Probabilidade da classe 1: 0.9997\n",
      "Classe prevista: 1\n",
      "A imagem é normal.\n",
      "--------------------------\n"
     ]
    }
   ],
   "source": [
    "def test_img_model(img_path):\n",
    "    # Carregar a imagem\n",
    "    img = image.load_img(img_path, target_size=(224, 224))\n",
    "    img_array = image.img_to_array(img)\n",
    "    img_array = img_array / 255.0\n",
    "    img_array = np.expand_dims(img_array, axis=0)\n",
    "\n",
    "    # Fazer a predição\n",
    "    pred = model2.predict(img_array)\n",
    "    classe_prevista = int(pred[0][0] > 0.5)\n",
    "    print(f'Imagem: {img_path}')\n",
    "    print(f'Probabilidade da classe 1: {pred[0][0]:.4f}')\n",
    "    print(f'Classe prevista: {classe_prevista}') \n",
    "    if classe_prevista == 1:\n",
    "        print(\"A imagem é normal.\")\n",
    "    else:\n",
    "        print(\"A imagem apresenta deficiência.\")\n",
    "    print(\"--------------------------\")\n",
    "\n",
    "for img_path in amostra_data:\n",
    "    test_img_model(img_path)"
   ]
  },
  {
   "cell_type": "markdown",
   "id": "29c51613",
   "metadata": {},
   "source": [
    "## Análise dos Resultados"
   ]
  },
  {
   "cell_type": "markdown",
   "id": "f942cb97",
   "metadata": {},
   "source": [
    "O modelo treinado demonstrou um desempenho altamente satisfatório em termos de acurácia e capacidade de generalização. Ao final do treinamento (época 30), os seguintes resultados foram obtidos:\n",
    "\n",
    "* Acurácia no treinamento: 98,15%\n",
    "\n",
    "* AUC no treinamento: 0,9978\n",
    "\n",
    "* Loss no treinamento: 0,1712\n",
    "\n",
    "* Acurácia na validação: 100%\n",
    "\n",
    "* AUC na validação: 1.0000\n",
    "\n",
    "* Loss na validação: 0.0046\n",
    "\n",
    "Os gráficos de desempenho ao longo das épocas indicam que o modelo alcançou rapidamente uma acurácia elevada, mantendo-se estável nas últimas épocas. O loss de validação se manteve extremamente baixo, evidenciando a confiança do modelo nas previsões.\n",
    "\n",
    "Além disso, a AUC de 1.0 na validação reforça que o modelo é capaz de separar perfeitamente as classes nesse conjunto. A ausência de crescimento do val_loss e a estabilidade da acurácia indicam que não há sinais claros de overfitting.\n",
    "\n",
    "---"
   ]
  },
  {
   "cell_type": "markdown",
   "id": "6d9342b7",
   "metadata": {},
   "source": [
    "## Conclusão"
   ]
  },
  {
   "cell_type": "markdown",
   "id": "9136a59e",
   "metadata": {},
   "source": [
    "O modelo desenvolvido cumpriu com sucesso seu objetivo de classificar corretamente as imagens do conjunto de dados, alcançando excelente desempenho mesmo com uma base limitada de imagens (menos de 200 por classe). O uso de técnicas como class_weight e data augmentation (se utilizado) ajudou a mitigar o impacto do tamanho reduzido do dataset.\n",
    "\n",
    "No entanto, é importante considerar que:\n",
    "\n",
    "* O conjunto de validação é limitado e pode ter influenciado os resultados.\n",
    "\n",
    "* Para maior robustez, recomenda-se realizar testes com imagens externas (manualmente) ou aplicar validação cruzada (k-fold) para avaliar a generalização em diferentes divisões do conjunto de dados.\n",
    "\n",
    "Por fim, os resultados obtidos demonstram que o modelo está apto para tarefas de classificação similares, com bom potencial de aplicação em cenários reais, desde que seja devidamente validado com dados externos.\n",
    "\n",
    "---"
   ]
  }
 ],
 "metadata": {
  "kernelspec": {
   "display_name": "Python 3",
   "language": "python",
   "name": "python3"
  },
  "language_info": {
   "codemirror_mode": {
    "name": "ipython",
    "version": 3
   },
   "file_extension": ".py",
   "mimetype": "text/x-python",
   "name": "python",
   "nbconvert_exporter": "python",
   "pygments_lexer": "ipython3",
   "version": "3.11.7"
  }
 },
 "nbformat": 4,
 "nbformat_minor": 5
}
